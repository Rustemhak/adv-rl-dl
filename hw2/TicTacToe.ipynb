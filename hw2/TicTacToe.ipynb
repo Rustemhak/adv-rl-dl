{
  "cells": [
    {
      "cell_type": "markdown",
      "metadata": {
        "id": "IFmi58_gnJrP"
      },
      "source": [
        "# RL and Advanced DL: Домашнее задание 2\n"
      ]
    },
    {
      "cell_type": "code",
      "execution_count": 1,
      "metadata": {
        "id": "rEJLcksQnJrO"
      },
      "outputs": [],
      "source": [
        "import gym\n",
        "\n",
        "import matplotlib as mpl\n",
        "import matplotlib.pyplot as plt\n",
        "import seaborn as sns\n",
        "import json\n",
        "import math\n",
        "import random\n",
        "import numpy as np\n",
        "import scipy as sp\n",
        "import scipy.stats as st\n",
        "import scipy.integrate as integrate\n",
        "from scipy.stats import multivariate_normal\n",
        "from sklearn import linear_model\n",
        "from sklearn.utils._testing import ignore_warnings\n",
        "from sklearn.exceptions import ConvergenceWarning\n",
        "import statsmodels.api as sm\n",
        "from matplotlib.colors import LogNorm\n",
        "import pickle\n",
        "\n",
        "from joblib import Parallel, delayed\n",
        "import multiprocessing\n",
        "from collections import namedtuple\n",
        "from itertools import count\n",
        "\n",
        "import cProfile\n",
        "from datetime import datetime\n",
        "\n",
        "import torch\n",
        "import torch.nn as nn\n",
        "import torch.optim as optim\n",
        "import torch.nn.functional as F\n",
        "import torchvision.transforms as T\n",
        "from torch.autograd import Variable\n",
        "\n",
        "sns.set_style(\"whitegrid\")\n",
        "sns.set_palette(\"colorblind\")\n",
        "palette = sns.color_palette()\n",
        "figsize = (15,8)\n",
        "legend_fontsize = 16\n",
        "\n",
        "from matplotlib import rc\n",
        "from collections import defaultdict"
      ]
    },
    {
      "cell_type": "code",
      "source": [
        "from IPython.display import clear_output\n"
      ],
      "metadata": {
        "id": "dIDVCu9ly2Fl"
      },
      "execution_count": 2,
      "outputs": []
    },
    {
      "cell_type": "code",
      "source": [
        "from tqdm import tqdm\n"
      ],
      "metadata": {
        "id": "oukTrOKvYNob"
      },
      "execution_count": 3,
      "outputs": []
    },
    {
      "cell_type": "markdown",
      "source": [
        "## Реализуем крестики-нолики"
      ],
      "metadata": {
        "id": "4PsfMrjBXzh7"
      }
    },
    {
      "cell_type": "code",
      "execution_count": 4,
      "metadata": {
        "id": "jIVsXvdvnJrR"
      },
      "outputs": [],
      "source": [
        "N_ROWS, N_COLS, N_WIN = 3, 3, 3"
      ]
    },
    {
      "cell_type": "code",
      "execution_count": 5,
      "metadata": {
        "id": "nsNtI6DHnJrR"
      },
      "outputs": [],
      "source": [
        "\n",
        "\n",
        "class TicTacToe(gym.Env):\n",
        "    def __init__(self, n_rows=N_ROWS, n_cols=N_COLS, n_win=N_WIN):\n",
        "        self.n_rows = n_rows\n",
        "        self.n_cols = n_cols\n",
        "        self.n_win = n_win\n",
        "\n",
        "        self.board = np.zeros((self.n_rows, self.n_cols), dtype=int)\n",
        "        self.gameOver = False\n",
        "        self.boardHash = None\n",
        "        # ход первого игрока\n",
        "        self.curTurn = 1\n",
        "        self.emptySpaces = None\n",
        "        \n",
        "        self.reset()\n",
        "\n",
        "    def getEmptySpaces(self):\n",
        "        if self.emptySpaces is None:\n",
        "            res = np.where(self.board == 0)\n",
        "            self.emptySpaces = np.array([ (i, j) for i,j in zip(res[0], res[1]) ])\n",
        "        return self.emptySpaces\n",
        "\n",
        "    def makeMove(self, player, i, j):\n",
        "        self.board[i, j] = player\n",
        "        self.emptySpaces = None\n",
        "        self.boardHash = None\n",
        "\n",
        "    def getHash(self):\n",
        "        if self.boardHash is None:\n",
        "            self.boardHash = ''.join(['%s' % (x+1) for x in self.board.reshape(self.n_rows * self.n_cols)])\n",
        "        return self.boardHash\n",
        "\n",
        "    def isTerminal(self):\n",
        "        # проверим, не закончилась ли игра\n",
        "        cur_marks, cur_p = np.where(self.board == self.curTurn), self.curTurn\n",
        "        for i,j in zip(cur_marks[0], cur_marks[1]):\n",
        "            win = False\n",
        "            if i <= self.n_rows - self.n_win:\n",
        "                if np.all(self.board[i:i+self.n_win, j] == cur_p):\n",
        "                    win = True\n",
        "            if not win:\n",
        "                if j <= self.n_cols - self.n_win:\n",
        "                    if np.all(self.board[i,j:j+self.n_win] == cur_p):\n",
        "                        win = True\n",
        "            if not win:\n",
        "                if i <= self.n_rows - self.n_win and j <= self.n_cols - self.n_win:\n",
        "                    if np.all(np.array([ self.board[i+k,j+k] == cur_p for k in range(self.n_win) ])):\n",
        "                        win = True\n",
        "            if not win:\n",
        "                if i <= self.n_rows - self.n_win and j >= self.n_win-1:\n",
        "                    if np.all(np.array([ self.board[i+k,j-k] == cur_p for k in range(self.n_win) ])):\n",
        "                        win = True\n",
        "            if win:\n",
        "                self.gameOver = True\n",
        "                return self.curTurn\n",
        "\n",
        "        if len(self.getEmptySpaces()) == 0:\n",
        "            self.gameOver = True\n",
        "            return 0\n",
        "\n",
        "        self.gameOver = False\n",
        "        return None\n",
        "\n",
        "    def printBoard(self):\n",
        "        for i in range(0, self.n_rows):\n",
        "            print('----'*(self.n_cols)+'-')\n",
        "            out = '| '\n",
        "            for j in range(0, self.n_cols):\n",
        "                if self.board[i, j] == 1:\n",
        "                    token = 'x'\n",
        "                if self.board[i, j] == -1:\n",
        "                    token = 'o'\n",
        "                if self.board[i, j] == 0:\n",
        "                    token = ' '\n",
        "                out += token + ' | '\n",
        "            print(out)\n",
        "        print('----'*(self.n_cols)+'-')\n",
        "\n",
        "    def getState(self):\n",
        "        return (self.getHash(), self.getEmptySpaces(), self.curTurn)\n",
        "\n",
        "    def action_from_int(self, action_int):\n",
        "        return ( int(action_int / self.n_cols), int(action_int % self.n_cols))\n",
        "\n",
        "    def int_from_action(self, action):\n",
        "        return action[0] * self.n_cols + action[1]\n",
        "    \n",
        "    def step(self, action):\n",
        "        if self.board[action[0], action[1]] != 0:\n",
        "            return self.getState(), -10, True, {}\n",
        "        self.makeMove(self.curTurn, action[0], action[1])\n",
        "        reward = self.isTerminal()\n",
        "        self.curTurn = -self.curTurn\n",
        "        return self.getState(), 0 if reward is None else reward, reward is not None, {}\n",
        "\n",
        "    def reset(self):\n",
        "        self.board = np.zeros((self.n_rows, self.n_cols), dtype=int)\n",
        "        self.boardHash = None\n",
        "        self.gameOver = False\n",
        "        self.emptySpaces = None\n",
        "        self.curTurn = 1\n",
        "        return self.getState()"
      ]
    },
    {
      "cell_type": "code",
      "execution_count": 6,
      "metadata": {
        "id": "6X8C19WunJrT"
      },
      "outputs": [],
      "source": [
        "def plot_board(env, pi, showtext=True, verbose=True, fontq=20, fontx=60):\n",
        "    clear_output(wait=True)\n",
        "    '''Рисуем доску с оценками из стратегии pi'''\n",
        "    fig, ax = plt.subplots(1, 1, figsize=(8, 8))\n",
        "    X, Y = np.meshgrid(np.arange(0, env.n_rows), np.arange(0, env.n_rows))\n",
        "    Z = np.zeros((env.n_rows, env.n_cols)) + .01\n",
        "    s, actions = env.getHash(), env.getEmptySpaces()\n",
        "    if pi is not None and s in pi.Q:\n",
        "        for i, a in enumerate(actions):\n",
        "            Z[a[0], a[1]] = pi.Q[s][i]\n",
        "    ax.set_xticks([])\n",
        "    ax.set_yticks([])\n",
        "    surf = ax.imshow(Z, cmap=plt.get_cmap('Accent', 10), vmin=-1, vmax=1)\n",
        "    if showtext:\n",
        "        for i,a in enumerate(actions):\n",
        "            if pi is not None and s in pi.Q:\n",
        "                ax.text( a[1] , a[0] , \"%.3f\" % pi.Q[s][i], fontsize=fontq, horizontalalignment='center', verticalalignment='center', color=\"w\" )\n",
        "    for i in range(env.n_rows):\n",
        "        for j in range(env.n_cols):\n",
        "            if env.board[i, j] == -1:\n",
        "                ax.text(j, i, \"O\", fontsize=fontx, horizontalalignment='center', verticalalignment='center', color=\"w\" )\n",
        "            if env.board[i, j] == 1:\n",
        "                ax.text(j, i, \"X\", fontsize=fontx, horizontalalignment='center', verticalalignment='center', color=\"w\" )\n",
        "    cbar = plt.colorbar(surf, ticks=[0, 1])\n",
        "    ax.grid(False)\n",
        "    plt.show()\n",
        "\n",
        "def get_and_print_move(env, pi, s, actions, random=False, verbose=True, fontq=20, fontx=60):\n",
        "    '''Делаем ход, рисуем доску'''\n",
        "    plot_board(env, pi, fontq=fontq, fontx=fontx)\n",
        "    if verbose and (pi is not None):\n",
        "        if s in pi.Q:\n",
        "            for i,a in enumerate(actions):\n",
        "                print(i, a, pi.Q[s][i])\n",
        "        else:\n",
        "            print(\"Стратегия не знает, что делать...\")\n",
        "    if random:\n",
        "        return np.random.randint(len(actions))\n",
        "    else:\n",
        "        return pi.getActionGreedy(s, len(actions))\n",
        "\n",
        "def plot_test_game(env, pi1, pi2, random_crosses=False, random_naughts=True, verbose=True, fontq=20, fontx=60):\n",
        "    '''Играем тестовую партию между стратегиями или со случайными ходами, рисуем ход игры'''\n",
        "    done = False\n",
        "    env.reset()\n",
        "    while not done:\n",
        "        s, actions = env.getHash(), env.getEmptySpaces()\n",
        "        if env.curTurn == 1:\n",
        "            a = get_and_print_move(env, pi1, s, actions, random=random_crosses, verbose=verbose, fontq=fontq, fontx=fontx)\n",
        "        else:\n",
        "            a = get_and_print_move(env, pi2, s, actions, random=random_naughts, verbose=verbose, fontq=fontq, fontx=fontx)\n",
        "        observation, reward, done, info = env.step(actions[a])\n",
        "        if reward == 1:\n",
        "            print(\"Крестики выиграли!\")\n",
        "            plot_board(env, None, showtext=False, fontq=fontq, fontx=fontx)\n",
        "        if reward == -1:\n",
        "            print(\"Нолики выиграли!\")\n",
        "            plot_board(env, None, showtext=False, fontq=fontq, fontx=fontx)"
      ]
    },
    {
      "cell_type": "code",
      "execution_count": 7,
      "metadata": {
        "colab": {
          "base_uri": "https://localhost:8080/",
          "height": 470
        },
        "id": "PmNLIl0inJrU",
        "outputId": "336aea93-3305-4003-9fbd-09df34f89e00"
      },
      "outputs": [
        {
          "output_type": "display_data",
          "data": {
            "text/plain": [
              "<Figure size 576x576 with 2 Axes>"
            ],
            "image/png": "[encoded data removed]"
          },
          "metadata": {}
        }
      ],
      "source": [
        "env = TicTacToe(n_rows=3, n_cols=3, n_win=3)\n",
        "plot_test_game(env, None, None, random_crosses=True, random_naughts=True, verbose=True, fontx=30)"
      ]
    },
    {
      "cell_type": "code",
      "execution_count": 8,
      "metadata": {
        "id": "oUwI9xZonJrW"
      },
      "outputs": [],
      "source": [
        "from IPython.display import clear_output\n",
        "\n",
        "import pandas as pd\n",
        "import matplotlib.pyplot as plt\n",
        "%matplotlib inline\n",
        "\n",
        "import random\n",
        "from IPython.display import clear_output"
      ]
    },
    {
      "cell_type": "markdown",
      "source": [
        "## Часть первая: крестики-нолики при помощи Q-обучения"
      ],
      "metadata": {
        "id": "IyFmKZ4hyYxz"
      }
    },
    {
      "cell_type": "markdown",
      "source": [
        "### 1. Реализуйте обычное (табличное) Q-обучение. Обучите стратегии крестиков и ноликов для доски 3х3.\n"
      ],
      "metadata": {
        "id": "pV9WTqDx0eVk"
      }
    },
    {
      "cell_type": "code",
      "source": [
        "def epsilon_greedy(Q, state, all_actions, eps):\n",
        "    \"\"\"Selects epsilon-greedy action for supplied state.\n",
        "    \n",
        "    Params\n",
        "    ======\n",
        "        Q (dictionary): action-value function\n",
        "        state (int): current state\n",
        "        nA (int): number actions in the environment\n",
        "        eps (float): epsilon\n",
        "    \"\"\"\n",
        "    if random.random() > eps: # выбрать жадное действие с вероятностью эпсилон\n",
        "        return all_actions[np.argmax(Q[state[0]])]\n",
        "    else:                     # в противном случае выберите действие случайным образом\n",
        "        return random.choice(all_actions)"
      ],
      "metadata": {
        "id": "rbziHlRlyXj3"
      },
      "execution_count": 9,
      "outputs": []
    },
    {
      "cell_type": "code",
      "source": [
        "\n",
        "def update_Q_sarsamax(alpha, gamma, Q, state, action, R, next_state=None):\n",
        "    \"\"\"Returns updated Q-value for the most recent experience.\"\"\"\n",
        "    Q_current = Q[state][action]  # оценка в Q-таблице (для текущего состояния, пара действий)\n",
        "    if next_state is not None:\n",
        "        maxQ_next = np.max(Q[next_state])\n",
        "    else: \n",
        "        maxQ_next = 0  # значение следующего состояния\n",
        "\n",
        "    Qsa_new = Q_current + alpha * (R + gamma * maxQ_next - Q_current) # получить обновленное значение \n",
        "    return Qsa_new"
      ],
      "metadata": {
        "id": "MeV5dsBByfoC"
      },
      "execution_count": 10,
      "outputs": []
    },
    {
      "cell_type": "code",
      "source": [
        "def plot_graph(rew):    \n",
        "    clear_output(wait=True)\n",
        "    plt.figure()\n",
        "    pd.Series(rew).rolling(500).mean().plot()\n",
        "    plt.show()\n",
        "    plt.close()"
      ],
      "metadata": {
        "id": "2_Uhql-Pyg0L"
      },
      "execution_count": 11,
      "outputs": []
    },
    {
      "cell_type": "code",
      "source": [
        "def find_ind(ar, value):\n",
        "    for i, el in enumerate(ar):\n",
        "        if el == value: \n",
        "          return i\n",
        "    return -1\n",
        "\n",
        "\n",
        "def q_learning(env, alpha = 0.2, gamma = 0.9, \n",
        "                    epsilon = 0.04, num_episodes = 100_001, n_size = 3):\n",
        "    \"\"\"Q-Learning - TD Control\n",
        "    \n",
        "    Params\n",
        "    ======\n",
        "        num_episodes (int): number of episodes to run the algorithm\n",
        "        alpha (float): learning rate\n",
        "        gamma (float): discount factor\n",
        "    \"\"\"\n",
        "    rewards = []\n",
        "    env.reset()\n",
        "    all_actions = env.getEmptySpaces().tolist()\n",
        "    q_table = defaultdict(lambda: np.random.uniform(size = n_size*n_size).tolist())\n",
        "    for i in range(1, num_episodes):\n",
        "        state = env.reset()\n",
        "\n",
        "        epochs, penalties, reward = 0, 0, 0\n",
        "        done = False\n",
        "        cross_actions = []\n",
        "        cross_states = []\n",
        "\n",
        "        while not done:\n",
        "            s, actions = env.getHash(), env.getEmptySpaces()\n",
        "            if env.curTurn == -1: # череда нолей\n",
        "                action = random.choice(actions)\n",
        "            else:\n",
        "                while True:\n",
        "                        action = epsilon_greedy(q_table, state, all_actions, epsilon)\n",
        "                        # проверить правила\n",
        "                        if action not in actions:\n",
        "                            q_table[state[0]][find_ind(all_actions, action)] = -1000\n",
        "                        else:\n",
        "                            break\n",
        "                cross_actions.append(action)\n",
        "\n",
        "            next_state, reward, done, info = env.step(action) \n",
        "\n",
        "            if done == False:\n",
        "                reward = 0\n",
        "            else:\n",
        "                if env.curTurn == -1: # крестики выиграили\n",
        "                    reward = 1\n",
        "                else:                 # нолики выиграли\n",
        "                    reward = -1\n",
        "\n",
        "                _state = cross_states[-1]\n",
        "                _action = find_ind(all_actions, list(cross_actions[-1]))\n",
        "\n",
        "                q_table[_state][_action] = update_Q_sarsamax(alpha, gamma, q_table, \\\n",
        "                                                _state, _action, reward, next_state[0])    \n",
        "                state = next_state\n",
        "            \n",
        "            if env.curTurn == 1:\n",
        "                _state = state[0]\n",
        "                _action = find_ind(all_actions, list(cross_actions[-1]))\n",
        "\n",
        "                cross_states.append(_state)\n",
        "                q_table[_state][_action] = update_Q_sarsamax(alpha, gamma, q_table, \\\n",
        "                                                _state, _action, reward, next_state[0])  \n",
        "\n",
        "                state = next_state\n",
        "\n",
        "        rewards.append(reward)\n",
        "        \n",
        "        if i % 10000 == 0:\n",
        "            plot_graph(rewards)"
      ],
      "metadata": {
        "id": "TxIt_GD7yjoz"
      },
      "execution_count": 12,
      "outputs": []
    },
    {
      "cell_type": "markdown",
      "source": [
        "#### 3 на 3"
      ],
      "metadata": {
        "id": "1dxP_snt2lQi"
      }
    },
    {
      "cell_type": "code",
      "source": [
        "n_size = 3\n",
        "env = TicTacToe(n_size, n_size, n_size)\n",
        "\n",
        "q_learning(env)"
      ],
      "metadata": {
        "colab": {
          "base_uri": "https://localhost:8080/",
          "height": 265
        },
        "id": "t8AoZpPczH7I",
        "outputId": "e7c32aa2-013f-4726-c7ee-778afad94c57"
      },
      "execution_count": 13,
      "outputs": [
        {
          "output_type": "display_data",
          "data": {
            "text/plain": [
              "<Figure size 432x288 with 1 Axes>"
            ],
            "image/png": "[encoded data removed]"
          },
          "metadata": {
            "needs_background": "light"
          }
        }
      ]
    },
    {
      "cell_type": "markdown",
      "source": [
        "### 2.Попробуйте обучить стратегии крестиков и ноликов для доски **4х4** и/или 5х5.\n",
        "\n"
      ],
      "metadata": {
        "id": "NsRHQv_pzkXD"
      }
    },
    {
      "cell_type": "code",
      "source": [
        "new_size = 4\n",
        "env = TicTacToe(n_rows=new_size, n_cols=new_size, n_win=new_size)"
      ],
      "metadata": {
        "id": "depLSpGRzlXu"
      },
      "execution_count": 14,
      "outputs": []
    },
    {
      "cell_type": "code",
      "source": [
        "plot_test_game(env, None, None, random_crosses=True, random_naughts=True, verbose=True, fontx=30)\n"
      ],
      "metadata": {
        "colab": {
          "base_uri": "https://localhost:8080/",
          "height": 470
        },
        "id": "61Uw3jIY1ChD",
        "outputId": "0f18879e-0633-431d-ecd2-d82a3cc1e0f2"
      },
      "execution_count": 15,
      "outputs": [
        {
          "output_type": "display_data",
          "data": {
            "text/plain": [
              "<Figure size 576x576 with 2 Axes>"
            ],
            "image/png": "[encoded data removed]"
          },
          "metadata": {
            "needs_background": "light"
          }
        }
      ]
    },
    {
      "cell_type": "markdown",
      "source": [
        "## Часть вторая: добавим нейронных сетей\n"
      ],
      "metadata": {
        "id": "Is2sF7fUXc8i"
      }
    },
    {
      "cell_type": "code",
      "source": [
        "class ReplayMemory():\n",
        "    def __init__(self, capacity):\n",
        "        self.capacity = capacity\n",
        "        self.memory = []\n",
        "        self.position = 0\n",
        "\n",
        "    def store(self, exptuple):\n",
        "        if len(self.memory) < self.capacity:\n",
        "            self.memory.append(None)\n",
        "        self.memory[self.position] = exptuple\n",
        "        self.position = (self.position + 1) % self.capacity\n",
        "       \n",
        "    def sample(self, batch_size):\n",
        "        return random.sample(self.memory, batch_size)\n",
        "    \n",
        "    def __len__(self):\n",
        "        return len(self.memory)"
      ],
      "metadata": {
        "id": "QzVG08gfXgoC"
      },
      "execution_count": 16,
      "outputs": []
    },
    {
      "cell_type": "code",
      "source": [
        "N_ROWS, N_COLS, N_WIN = 3, 3, 3"
      ],
      "metadata": {
        "id": "7cY9_DJxYQJj"
      },
      "execution_count": 17,
      "outputs": []
    },
    {
      "cell_type": "code",
      "source": [
        "class TicTacToe(gym.Env):\n",
        "    def __init__(self, board_size):\n",
        "        self.board_size = board_size\n",
        "        self.n_rows = board_size\n",
        "        self.n_cols = board_size\n",
        "        self.n_win = board_size\n",
        "\n",
        "        self.board = np.zeros((self.n_rows, self.n_cols), dtype=int)\n",
        "        self.gameOver = False\n",
        "        self.boardHash = None\n",
        "        self.n_turns = 0\n",
        "        # ход первого игрока\n",
        "        self.curTurn = 1\n",
        "        self.emptySpaces = None\n",
        "        self.actions = self.getEmptySpaces().tolist()\n",
        "\n",
        "        self.reset()\n",
        "\n",
        "    def getEmptySpaces(self):\n",
        "        if self.emptySpaces is None:\n",
        "            res = np.where(self.board == 0)\n",
        "            self.emptySpaces = np.array([ (i, j) for i,j in zip(res[0], res[1]) ])\n",
        "        return self.emptySpaces\n",
        "\n",
        "    def makeMove(self, player, i, j):\n",
        "        self.board[i, j] = player\n",
        "        self.emptySpaces = None\n",
        "        self.boardHash = None\n",
        "\n",
        "    def getHash(self):\n",
        "        if self.boardHash is None:\n",
        "            self.boardHash = ''.join(['%s' % (x+1) for x in self.board.reshape(self.n_rows * self.n_cols)])\n",
        "        return self.boardHash\n",
        "\n",
        "    def isTerminal(self):\n",
        "        # проверим, не закончилась ли игра\n",
        "        cur_marks, cur_p = np.where(self.board == self.curTurn), self.curTurn\n",
        "        for i,j in zip(cur_marks[0], cur_marks[1]):\n",
        "            win = False\n",
        "            if i <= self.n_rows - self.n_win:\n",
        "                if np.all(self.board[i:i+self.n_win, j] == cur_p):\n",
        "                    win = True\n",
        "            if not win:\n",
        "                if j <= self.n_cols - self.n_win:\n",
        "                    if np.all(self.board[i,j:j+self.n_win] == cur_p):\n",
        "                        win = True\n",
        "            if not win:\n",
        "                if i <= self.n_rows - self.n_win and j <= self.n_cols - self.n_win:\n",
        "                    if np.all(np.array([ self.board[i+k,j+k] == cur_p for k in range(self.n_win) ])):\n",
        "                        win = True\n",
        "            if not win:\n",
        "                if i <= self.n_rows - self.n_win and j >= self.n_win-1:\n",
        "                    if np.all(np.array([ self.board[i+k,j-k] == cur_p for k in range(self.n_win) ])):\n",
        "                        win = True\n",
        "            if win:\n",
        "                self.gameOver = True\n",
        "                return self.curTurn\n",
        "\n",
        "        if len(self.getEmptySpaces()) == 0:\n",
        "            self.gameOver = True\n",
        "            return 0\n",
        "\n",
        "        self.gameOver = False\n",
        "        return None\n",
        "\n",
        "    def printBoard(self):\n",
        "        for i in range(0, self.n_rows):\n",
        "            print('----'*(self.n_cols)+'-')\n",
        "            out = '| '\n",
        "            for j in range(0, self.n_cols):\n",
        "                if self.board[i, j] == 1:\n",
        "                    token = 'x'\n",
        "                if self.board[i, j] == -1:\n",
        "                    token = 'o'\n",
        "                if self.board[i, j] == 0:\n",
        "                    token = ' '\n",
        "                out += token + ' | '\n",
        "            print(out)\n",
        "        print('----'*(self.n_cols)+'-')\n",
        "\n",
        "    def getState(self):\n",
        "        return (self.getHash(), self.getEmptySpaces(), self.curTurn)\n",
        "\n",
        "    def action_from_int(self, action_int):\n",
        "        return ( int(action_int / self.n_cols), int(action_int % self.n_cols))\n",
        "\n",
        "    def int_from_action(self, action):\n",
        "        return action[0] * self.n_cols + action[1]\n",
        "    \n",
        "    def step(self, action):\n",
        "        if self.board[action[0], action[1]] != 0:\n",
        "            return self.getState(), -10, True, {}\n",
        "        self.makeMove(self.curTurn, action[0], action[1])\n",
        "        reward = self.isTerminal()\n",
        "        self.curTurn = -self.curTurn\n",
        "        return self.getState(), 0 if reward is None else reward, reward is not None, {}\n",
        "\n",
        "    def reset(self):\n",
        "        self.board = np.zeros((self.n_rows, self.n_cols), dtype=int)\n",
        "        self.boardHash = None\n",
        "        self.gameOver = False\n",
        "        self.emptySpaces = None\n",
        "        self.curTurn = 1\n",
        "        return self.getState()\n",
        "\n",
        "    def step_random(self, action_index):\n",
        "        state, reward, done, info =\\\n",
        "                self.step(self.actions[action_index])\n",
        "        self.n_turns += 1\n",
        "        \n",
        "        if not done:\n",
        "            rand_actions = self.getEmptySpaces()\n",
        "            rand_action = random.choice(rand_actions)\n",
        "            _, _, done, _ = self.step(rand_action)\n",
        "            self.n_turns += 1\n",
        "            \n",
        "            if done:\n",
        "                # мы проиграли\n",
        "                return self.board, -1, True, info\n",
        "            else:\n",
        "                # играем дальше\n",
        "                return self.board, 0, False, {}\n",
        "            \n",
        "        else:\n",
        "            if reward == -10:\n",
        "                # неверный ход\n",
        "                return self.board, -10, True, info\n",
        "            else:\n",
        "                if self.n_turns == self.board_size * self.board_size:\n",
        "                    # ничья\n",
        "                    return self.board, -0.5, True, info\n",
        "                else:\n",
        "                    # мы выиграли\n",
        "                    return self.board, 1, True, info\n",
        "        \n",
        "    def reset_rand(self):\n",
        "        self.n_turns = 0\n",
        "        self.done = None\n",
        "        self.reset()\n",
        "        return self.board, 0, False, {}"
      ],
      "metadata": {
        "id": "YlIJgsCiYSc2"
      },
      "execution_count": 18,
      "outputs": []
    },
    {
      "cell_type": "code",
      "source": [
        "def plot_board(env, pi, showtext=True, verbose=True, fontq=20, fontx=60):\n",
        "    clear_output(wait=True)\n",
        "    '''Рисуем доску с оценками из стратегии pi'''\n",
        "    fig, ax = plt.subplots(1, 1, figsize=(8, 8))\n",
        "    X, Y = np.meshgrid(np.arange(0, env.n_rows), np.arange(0, env.n_rows))\n",
        "    Z = np.zeros((env.n_rows, env.n_cols)) + .01\n",
        "    s, actions = env.getHash(), env.getEmptySpaces()\n",
        "    if pi is not None and s in pi.Q:\n",
        "        for i, a in enumerate(actions):\n",
        "            Z[a[0], a[1]] = pi.Q[s][i]\n",
        "    ax.set_xticks([])\n",
        "    ax.set_yticks([])\n",
        "    surf = ax.imshow(Z, cmap=plt.get_cmap('Accent', 10), vmin=-1, vmax=1)\n",
        "    if showtext:\n",
        "        for i,a in enumerate(actions):\n",
        "            if pi is not None and s in pi.Q:\n",
        "                ax.text( a[1] , a[0] , \"%.3f\" % pi.Q[s][i], fontsize=fontq, horizontalalignment='center', verticalalignment='center', color=\"w\" )\n",
        "    for i in range(env.n_rows):\n",
        "        for j in range(env.n_cols):\n",
        "            if env.board[i, j] == -1:\n",
        "                ax.text(j, i, \"O\", fontsize=fontx, horizontalalignment='center', verticalalignment='center', color=\"w\" )\n",
        "            if env.board[i, j] == 1:\n",
        "                ax.text(j, i, \"X\", fontsize=fontx, horizontalalignment='center', verticalalignment='center', color=\"w\" )\n",
        "    cbar = plt.colorbar(surf, ticks=[0, 1])\n",
        "    ax.grid(False)\n",
        "    plt.show()\n",
        "\n",
        "def get_and_print_move(env, pi, s, actions, random=False, verbose=True, fontq=20, fontx=60):\n",
        "    '''Делаем ход, рисуем доску'''\n",
        "    plot_board(env, pi, fontq=fontq, fontx=fontx)\n",
        "    if verbose and (pi is not None):\n",
        "        if s in pi.Q:\n",
        "            for i,a in enumerate(actions):\n",
        "                print(i, a, pi.Q[s][i])\n",
        "        else:\n",
        "            print(\"Стратегия не знает, что делать...\")\n",
        "    if random:\n",
        "        return np.random.randint(len(actions))\n",
        "    else:\n",
        "        return pi.getActionGreedy(s, len(actions))\n",
        "\n",
        "def plot_test_game(env, pi1, pi2, random_crosses=False, random_naughts=True, verbose=True, fontq=20, fontx=60):\n",
        "    '''Играем тестовую партию между стратегиями или со случайными ходами, рисуем ход игры'''\n",
        "    done = False\n",
        "    env.reset()\n",
        "    while not done:\n",
        "        s, actions = env.getHash(), env.getEmptySpaces()\n",
        "        if env.curTurn == 1:\n",
        "            a = get_and_print_move(env, pi1, s, actions, random=random_crosses, verbose=verbose, fontq=fontq, fontx=fontx)\n",
        "        else:\n",
        "            a = get_and_print_move(env, pi2, s, actions, random=random_naughts, verbose=verbose, fontq=fontq, fontx=fontx)\n",
        "        observation, reward, done, info = env.step(actions[a])\n",
        "        if reward == 1:\n",
        "            print(\"Крестики выиграли!\")\n",
        "            plot_board(env, None, showtext=False, fontq=fontq, fontx=fontx)\n",
        "        if reward == -1:\n",
        "            print(\"Нолики выиграли!\")\n",
        "            plot_board(env, None, showtext=False, fontq=fontq, fontx=fontx)\n",
        "            "
      ],
      "metadata": {
        "id": "ahf9M8rPYVPi"
      },
      "execution_count": 19,
      "outputs": []
    },
    {
      "cell_type": "code",
      "source": [
        "env = TicTacToe(3)\n",
        "plot_test_game(env, None, None, random_crosses=True, random_naughts=True, verbose=True, fontx=30)"
      ],
      "metadata": {
        "colab": {
          "base_uri": "https://localhost:8080/",
          "height": 470
        },
        "id": "wr3ZYvBdbngy",
        "outputId": "6b83a3d5-3cad-486c-aea2-97ccefa59e18"
      },
      "execution_count": 20,
      "outputs": [
        {
          "output_type": "display_data",
          "data": {
            "text/plain": [
              "<Figure size 576x576 with 2 Axes>"
            ],
            "image/png": "[encoded data removed]"
          },
          "metadata": {
            "needs_background": "light"
          }
        }
      ]
    },
    {
      "cell_type": "code",
      "source": [
        "from IPython.display import clear_output\n",
        "\n",
        "import pandas as pd\n",
        "import matplotlib.pyplot as plt\n",
        "%matplotlib inline\n",
        "\n",
        "import random\n"
      ],
      "metadata": {
        "id": "HKrCvqpO2HMp"
      },
      "execution_count": 21,
      "outputs": []
    },
    {
      "cell_type": "code",
      "source": [],
      "metadata": {
        "id": "OzqpNgt92I5k"
      },
      "execution_count": null,
      "outputs": []
    },
    {
      "cell_type": "markdown",
      "source": [
        "### 3. Реализуйте DQN с нейронной сетью, обучите стратегии крестиков и ноликов. Замечание: скорее всего, experience replay потребуется сразу же"
      ],
      "metadata": {
        "id": "f6j6JiEU2K57"
      }
    },
    {
      "cell_type": "code",
      "source": [
        "class TicTacDQNetwork(nn.Module):\n",
        "    def __init__(self, board_size = 5, padding_size = 2):\n",
        "        self.board_size = board_size\n",
        "        nn.Module.__init__(self)\n",
        "        self.conv1 = torch.nn.Conv2d(1, 16, board_size, \n",
        "                                     padding=(padding_size, padding_size))\n",
        "        self.conv2 = torch.nn.Conv2d(16, 3, board_size, \n",
        "                                     padding=(padding_size, padding_size))\n",
        "        self.l1 = nn.Linear(board_size * board_size * 3, board_size * board_size)\n",
        "\n",
        "    def forward(self, x):\n",
        "        # print(x)\n",
        "        x = F.relu(self.conv1(x))\n",
        "        x = F.relu(self.conv2(x))\n",
        "        x = self.l1(x.view(-1, self.board_size * self.board_size * 3))\n",
        "        return x"
      ],
      "metadata": {
        "id": "AXTMuNFR2ONV"
      },
      "execution_count": 22,
      "outputs": []
    },
    {
      "cell_type": "code",
      "source": [
        "class TicTacDQN():\n",
        "    def __init__(self, board_size, padding_size = 2):\n",
        "        self.board_size = board_size\n",
        "        self.env = TicTacToe(board_size)\n",
        "        self.model = TicTacDQNetwork(board_size, padding_size)\n",
        "        self.memory = ReplayMemory(10_000)\n",
        "        self.optimizer = optim.Adam(self.model.parameters(), 0.001)\n",
        "        self.steps_done = 0\n",
        "        self.episode_durations = []\n",
        "        \n",
        "        self.gamma = 0.8\n",
        "        self.batch_size = 64\n",
        "        \n",
        "        self.eps_init, self.eps_final, self.eps_decay = 0.9, 0.05, 200\n",
        "        self.num_step = 0\n",
        "        self.rewards = []\n",
        "\n",
        "    def select_greedy_action(self, state):\n",
        "        return self.model(state).data.max(1)[1].view(1, 1)\n",
        "\n",
        "    def select_action(self, state):\n",
        "        sample = random.random()\n",
        "        self.num_step += 1\n",
        "        eps_threshold = self.eps_final + (self.eps_init - self.eps_final) * math.exp(-1. * self.num_step / self.eps_decay)\n",
        "        if sample > eps_threshold:\n",
        "            return self.select_greedy_action(state)\n",
        "        else:\n",
        "            return torch.tensor([[random.randrange(self.board_size * self.board_size)]], dtype=torch.int64)\n",
        "        \n",
        "    def run_episode(self, e=0, do_learning=True, greedy=False):\n",
        "        state, reward, done, info  = self.env.reset_rand()\n",
        "        num_step = 0\n",
        "        while True:\n",
        "            state_tensor = torch.tensor(state,\n",
        "                                dtype=torch.float32)\\\n",
        "                            .reshape(1, 1, self.board_size, self.board_size)\n",
        "            with torch.no_grad():\n",
        "                if greedy:\n",
        "                    action = self.select_greedy_action(state_tensor)\n",
        "                else:\n",
        "                    action = self.select_action(state_tensor)\n",
        "                    \n",
        "            next_state, reward, done, _ = self.env.step_random(action.numpy()[0][0])\n",
        "            next_state_tensor = torch.tensor(next_state, dtype=torch.float32).reshape(1, 1, self.board_size, self.board_size)\n",
        "\n",
        "            transition = (state_tensor, action, next_state_tensor,\n",
        "                          torch.tensor([reward], dtype=torch.float32))\n",
        "            self.memory.store(transition)\n",
        "\n",
        "            if do_learning:\n",
        "                self.learn()\n",
        "\n",
        "            state = next_state\n",
        "            num_step += 1\n",
        "\n",
        "            if done:\n",
        "                self.episode_durations.append(num_step)\n",
        "                self.rewards.append(reward)\n",
        "                break\n",
        "\n",
        "    \n",
        "    def learn(self):\n",
        "        if len(self.memory) < self.batch_size:\n",
        "            return\n",
        "\n",
        "        # берём мини-батч из памяти\n",
        "        transitions = self.memory.sample(self.batch_size)\n",
        "        batch_state, batch_action, batch_next_state, batch_reward =\\\n",
        "                                                            zip(*transitions)\n",
        "\n",
        "        batch_state = Variable(torch.cat(batch_state))\n",
        "        batch_action = Variable(torch.cat(batch_action))\n",
        "        batch_reward = Variable(torch.cat(batch_reward))\n",
        "        batch_next_state = Variable(torch.cat(batch_next_state))\n",
        "\n",
        "        # считаем значения функции Q\n",
        "        Q = self.model(batch_state)\\\n",
        "                    .gather(1, batch_action).reshape([self.batch_size])\n",
        "\n",
        "        # оцениваем ожидаемые значения после этого действия\n",
        "        Qmax = self.model(batch_next_state).detach().max(1)[0]\n",
        "        Qnext = batch_reward + (self.gamma * Qmax)\n",
        "\n",
        "        # и хотим, чтобы Q было похоже на Qnext -- это и есть суть Q-обучения\n",
        "        loss = F.smooth_l1_loss(Q, Qnext)\n",
        "\n",
        "        self.optimizer.zero_grad()\n",
        "        loss.backward()\n",
        "        self.optimizer.step()"
      ],
      "metadata": {
        "id": "OM-r2XXb2SXq"
      },
      "execution_count": 23,
      "outputs": []
    },
    {
      "cell_type": "code",
      "source": [],
      "metadata": {
        "id": "erGEFnee2UHd"
      },
      "execution_count": null,
      "outputs": []
    },
    {
      "cell_type": "markdown",
      "source": [
        "#### 3 на 3"
      ],
      "metadata": {
        "id": "LI1rCqNP2W3E"
      }
    },
    {
      "cell_type": "code",
      "source": [
        "tictac_dqn = TicTacDQN(3, 1)\n"
      ],
      "metadata": {
        "id": "vL_6sSQm2Yru"
      },
      "execution_count": 24,
      "outputs": []
    },
    {
      "cell_type": "code",
      "source": [
        "wins = []\n",
        "for i in tqdm(range(10)):\n",
        "    tictac_dqn.run_episode(e=0, greedy=True, do_learning=False)\n",
        "    reward = tictac_dqn.rewards[-1]\n",
        "    wins.append(reward)"
      ],
      "metadata": {
        "colab": {
          "base_uri": "https://localhost:8080/"
        },
        "id": "yObbsl-k2ZqO",
        "outputId": "23041831-6d46-4fd2-88a8-2aa1c023063f"
      },
      "execution_count": 25,
      "outputs": [
        {
          "output_type": "stream",
          "name": "stderr",
          "text": [
            "100%|██████████| 10/10 [00:00<00:00, 111.40it/s]\n"
          ]
        }
      ]
    },
    {
      "cell_type": "code",
      "source": [
        "for i in tqdm(range(10_000)):\n",
        "    tictac_dqn.run_episode(e=0.04) "
      ],
      "metadata": {
        "colab": {
          "base_uri": "https://localhost:8080/"
        },
        "id": "fl4n8fYZ2aga",
        "outputId": "58312c56-09e6-4cf2-b0d9-93456dcaf34b"
      },
      "execution_count": 26,
      "outputs": [
        {
          "output_type": "stream",
          "name": "stderr",
          "text": [
            "100%|██████████| 10000/10000 [01:40<00:00, 99.15it/s]\n"
          ]
        }
      ]
    },
    {
      "cell_type": "code",
      "source": [
        "pd.Series(tictac_dqn.rewards).rolling(500).mean().plot()\n"
      ],
      "metadata": {
        "colab": {
          "base_uri": "https://localhost:8080/",
          "height": 287
        },
        "id": "k-nUK9Lt2bRL",
        "outputId": "30671182-c9a9-4d74-d21b-852e6b1003bf"
      },
      "execution_count": 27,
      "outputs": [
        {
          "output_type": "execute_result",
          "data": {
            "text/plain": [
              "<matplotlib.axes._subplots.AxesSubplot at 0x7f75b47e5450>"
            ]
          },
          "metadata": {},
          "execution_count": 27
        },
        {
          "output_type": "display_data",
          "data": {
            "text/plain": [
              "<Figure size 432x288 with 1 Axes>"
            ],
            "image/png": "[encoded data removed]"
          },
          "metadata": {
            "needs_background": "light"
          }
        }
      ]
    },
    {
      "cell_type": "code",
      "source": [
        "wins = []\n",
        "for i in tqdm(range(1000)):\n",
        "    tictac_dqn.run_episode(e=0, greedy=True, do_learning=False)\n",
        "    reward = tictac_dqn.rewards[-1]\n",
        "    wins.append(reward)"
      ],
      "metadata": {
        "colab": {
          "base_uri": "https://localhost:8080/"
        },
        "id": "i013RTBQ2cJA",
        "outputId": "b417e2d4-8555-475a-d4fe-183cfaf6094e"
      },
      "execution_count": 28,
      "outputs": [
        {
          "output_type": "stream",
          "name": "stderr",
          "text": [
            "100%|██████████| 1000/1000 [00:01<00:00, 928.47it/s]\n"
          ]
        }
      ]
    },
    {
      "cell_type": "code",
      "source": [
        "import numpy as np\n",
        "np.mean(wins)"
      ],
      "metadata": {
        "colab": {
          "base_uri": "https://localhost:8080/"
        },
        "id": "wtSPOEs22dur",
        "outputId": "6497eec5-548c-4275-c4c6-d912972f2f3a"
      },
      "execution_count": 29,
      "outputs": [
        {
          "output_type": "execute_result",
          "data": {
            "text/plain": [
              "0.8165"
            ]
          },
          "metadata": {},
          "execution_count": 29
        }
      ]
    },
    {
      "cell_type": "code",
      "source": [],
      "metadata": {
        "id": "8FQeB8Vm2e94"
      },
      "execution_count": null,
      "outputs": []
    },
    {
      "cell_type": "markdown",
      "source": [
        "#### 5 на 5"
      ],
      "metadata": {
        "id": "ig2qY6qY2gsB"
      }
    },
    {
      "cell_type": "code",
      "source": [
        "tictac_dqn = TicTacDQN(5, 2)"
      ],
      "metadata": {
        "id": "izP4SRex2iwx"
      },
      "execution_count": 30,
      "outputs": []
    },
    {
      "cell_type": "code",
      "source": [
        "wins = []\n",
        "for i in tqdm(range(1000)):\n",
        "    tictac_dqn.run_episode(e=0, greedy=True, do_learning=False)\n",
        "    reward = tictac_dqn.rewards[-1]\n",
        "    wins.append(reward)"
      ],
      "metadata": {
        "colab": {
          "base_uri": "https://localhost:8080/"
        },
        "id": "eeF0T_8x2rpj",
        "outputId": "75af583a-7f7c-46ef-9093-10705f71f2f8"
      },
      "execution_count": 31,
      "outputs": [
        {
          "output_type": "stream",
          "name": "stderr",
          "text": [
            "100%|██████████| 1000/1000 [00:01<00:00, 713.27it/s]\n"
          ]
        }
      ]
    },
    {
      "cell_type": "code",
      "source": [
        "for i in tqdm(range(10_000)):\n",
        "    tictac_dqn.run_episode(e=0.04)  "
      ],
      "metadata": {
        "colab": {
          "base_uri": "https://localhost:8080/"
        },
        "id": "JUWcOVyt2sTG",
        "outputId": "03c74cfa-f410-41d9-c6d3-b3783aefdece"
      },
      "execution_count": 32,
      "outputs": [
        {
          "output_type": "stream",
          "name": "stderr",
          "text": [
            "100%|██████████| 10000/10000 [04:44<00:00, 35.14it/s]\n"
          ]
        }
      ]
    },
    {
      "cell_type": "code",
      "source": [
        "pd.Series(tictac_dqn.rewards).rolling(500).mean().plot()\n"
      ],
      "metadata": {
        "colab": {
          "base_uri": "https://localhost:8080/",
          "height": 283
        },
        "id": "e9Y0UHQm2tDp",
        "outputId": "4df3c33a-8645-4d80-b512-c38a4935e449"
      },
      "execution_count": 33,
      "outputs": [
        {
          "output_type": "execute_result",
          "data": {
            "text/plain": [
              "<matplotlib.axes._subplots.AxesSubplot at 0x7f75b48a5dd0>"
            ]
          },
          "metadata": {},
          "execution_count": 33
        },
        {
          "output_type": "display_data",
          "data": {
            "text/plain": [
              "<Figure size 432x288 with 1 Axes>"
            ],
            "image/png": "[encoded data removed]"
          },
          "metadata": {
            "needs_background": "light"
          }
        }
      ]
    },
    {
      "cell_type": "code",
      "source": [
        "wins = []\n",
        "for i in tqdm(range(1000)):\n",
        "    tictac_dqn.run_episode(e=0, greedy=True, do_learning=False)\n",
        "    reward = tictac_dqn.rewards[-1]\n",
        "    wins.append(reward)"
      ],
      "metadata": {
        "colab": {
          "base_uri": "https://localhost:8080/"
        },
        "id": "Hl0vhlrV2t02",
        "outputId": "b45752b4-9108-4ae0-fe16-fa576bbd4be7"
      },
      "execution_count": 34,
      "outputs": [
        {
          "output_type": "stream",
          "name": "stderr",
          "text": [
            "100%|██████████| 1000/1000 [00:03<00:00, 289.49it/s]\n"
          ]
        }
      ]
    },
    {
      "cell_type": "code",
      "source": [
        "np.mean(wins)"
      ],
      "metadata": {
        "colab": {
          "base_uri": "https://localhost:8080/"
        },
        "id": "PT_AbEFM2ujF",
        "outputId": "6430a236-88de-4f3b-dab4-1f4f38346502"
      },
      "execution_count": 35,
      "outputs": [
        {
          "output_type": "execute_result",
          "data": {
            "text/plain": [
              "0.8"
            ]
          },
          "metadata": {},
          "execution_count": 35
        }
      ]
    },
    {
      "cell_type": "code",
      "source": [],
      "metadata": {
        "id": "Yk6LdYGJ2vZz"
      },
      "execution_count": null,
      "outputs": []
    },
    {
      "cell_type": "markdown",
      "source": [
        "### 4. Реализуйте Double DQN и/или Dueling DQN."
      ],
      "metadata": {
        "id": "WtNrLs6J2x3i"
      }
    },
    {
      "cell_type": "code",
      "source": [
        "class TicTacDuelingDQNetwork(nn.Module):\n",
        "    def __init__(self, board_size):\n",
        "        super(TicTacDuelingDQNetwork, self).__init__()\n",
        "        \n",
        "        self.board_size = board_size\n",
        "        \n",
        "        self.conv = nn.Sequential(\n",
        "            nn.Conv2d(1, 5, kernel_size=3, stride=1, padding=1),\n",
        "            nn.ReLU(),\n",
        "            nn.Conv2d(5, 3, kernel_size=3, stride=1, padding=1),\n",
        "            nn.ReLU()\n",
        "        )\n",
        "        \n",
        "        self.fc_input_dim = self.feature_size()\n",
        "        \n",
        "        self.value_stream = nn.Sequential(\n",
        "            nn.Linear(self.fc_input_dim, 128),\n",
        "            nn.ReLU(),\n",
        "            nn.Linear(128, 1)\n",
        "        )\n",
        "\n",
        "        self.advantage_stream = nn.Sequential(\n",
        "            nn.Linear(self.fc_input_dim, 128),\n",
        "            nn.ReLU(),\n",
        "            nn.Linear(128, self.board_size * self.board_size)\n",
        "        )\n",
        "\n",
        "    def forward(self, state):\n",
        "        features = self.conv(state)\n",
        "        features = features.view(features.size(0), -1)\n",
        "        values = self.value_stream(features)\n",
        "        advantages = self.advantage_stream(features)\n",
        "        qvals = values + (advantages - advantages.mean())\n",
        "        return qvals\n",
        "\n",
        "    def feature_size(self):\n",
        "        return self.conv(torch.zeros(1, 1, self.board_size, self.board_size)).view(1, -1).size(1)"
      ],
      "metadata": {
        "id": "HR9tW6Tn2y-a"
      },
      "execution_count": 36,
      "outputs": []
    },
    {
      "cell_type": "code",
      "source": [
        "class TicTacDuelingDQN():\n",
        "    def __init__(self, board_size):\n",
        "        self.board_size = board_size\n",
        "        self.env = TicTacToe(board_size)\n",
        "        self.model = TicTacDuelingDQNetwork(board_size)\n",
        "        self.memory = ReplayMemory(10_000)\n",
        "        self.optimizer = optim.Adam(self.model.parameters(), 0.001)\n",
        "        self.steps_done = 0\n",
        "        self.episode_durations = []\n",
        "        \n",
        "        self.gamma = 0.8\n",
        "        self.batch_size = 64\n",
        "        \n",
        "        self.eps_init, self.eps_final, self.eps_decay = 0.9, 0.05, 200\n",
        "        self.num_step = 0\n",
        "        self.rewards = []\n",
        "\n",
        "    def select_greedy_action(self, state):\n",
        "        return self.model(state).data.max(1)[1].view(1, 1)\n",
        "    \n",
        "    def select_action(self, state):\n",
        "        sample = random.random()\n",
        "        self.num_step += 1\n",
        "        eps_threshold = self.eps_final + (self.eps_init - self.eps_final) * math.exp(-1. * self.num_step / self.eps_decay)\n",
        "        if sample > eps_threshold:\n",
        "            return self.select_greedy_action(state)\n",
        "        else:\n",
        "            return torch.tensor([[random.randrange(self.board_size * self.board_size)]], dtype=torch.int64)\n",
        "        \n",
        "    def run_episode(self, e=0, do_learning=True, greedy=False):\n",
        "        state, reward, done, info  = self.env.reset_rand()\n",
        "        num_step = 0\n",
        "        while True:\n",
        "\n",
        "            state_tensor = torch.tensor(state, \n",
        "                                dtype=torch.float32)\\\n",
        "                            .reshape(1,1,self.board_size, self.board_size)\n",
        "            with torch.no_grad():\n",
        "                if greedy:\n",
        "                    action = self.select_greedy_action(state_tensor)\n",
        "                else:\n",
        "                    action = self.select_action(state_tensor)\n",
        "                    \n",
        "            next_state, reward, done, _ = self.env.step_random(action.numpy()[0][0])\n",
        "            next_state_tensor = torch.tensor(next_state, dtype=torch.float32).reshape(1,1,self.board_size, self.board_size)\n",
        "\n",
        "            transition = (state_tensor, action, next_state_tensor, torch.tensor([reward], dtype=torch.float32))\n",
        "            self.memory.store(transition)\n",
        "\n",
        "            if do_learning:\n",
        "                self.learn()\n",
        "\n",
        "            state = next_state\n",
        "            num_step += 1\n",
        "\n",
        "            if done:\n",
        "                self.episode_durations.append(num_step)\n",
        "                self.rewards.append(reward)\n",
        "                break\n",
        "\n",
        "    def learn(self):\n",
        "        if len(self.memory) < self.batch_size:\n",
        "            return\n",
        "\n",
        "        # берём мини-батч из памяти\n",
        "        transitions = self.memory.sample(self.batch_size)\n",
        "        batch_state, batch_action, batch_next_state, batch_reward =\\\n",
        "                                                            zip(*transitions)\n",
        "\n",
        "        batch_state = Variable(torch.cat(batch_state))\n",
        "        batch_action = Variable(torch.cat(batch_action))\n",
        "        batch_reward = Variable(torch.cat(batch_reward))\n",
        "        batch_next_state = Variable(torch.cat(batch_next_state))\n",
        "\n",
        "        # считаем значения функции Q\n",
        "        Q = self.model(batch_state)\\\n",
        "                    .gather(1, batch_action).reshape([self.batch_size])\n",
        "\n",
        "        # оцениваем ожидаемые значения после этого действия\n",
        "        Qmax = self.model(batch_next_state).detach().max(1)[0]\n",
        "        Qnext = batch_reward + (self.gamma * Qmax)\n",
        "\n",
        "        # и хотим, чтобы Q было похоже на Qnext -- это и есть суть Q-обучения\n",
        "        loss = F.smooth_l1_loss(Q, Qnext)\n",
        "\n",
        "        self.optimizer.zero_grad()\n",
        "        loss.backward()\n",
        "        self.optimizer.step()"
      ],
      "metadata": {
        "id": "At2IcGnV23N8"
      },
      "execution_count": 37,
      "outputs": []
    },
    {
      "cell_type": "code",
      "source": [
        "tictac_dueldqn = TicTacDuelingDQN(5)\n"
      ],
      "metadata": {
        "id": "jlZiC51S4Ab4"
      },
      "execution_count": 38,
      "outputs": []
    },
    {
      "cell_type": "code",
      "source": [
        "wins = []\n",
        "for i in tqdm(range(1000)):\n",
        "    tictac_dueldqn.run_episode(e=0, greedy=True, do_learning=False)\n",
        "    reward = tictac_dueldqn.rewards[-1]\n",
        "    wins.append(reward)"
      ],
      "metadata": {
        "colab": {
          "base_uri": "https://localhost:8080/"
        },
        "id": "nXbxiitN4CDd",
        "outputId": "7edd6e7f-affb-4bfb-824d-514f8a06f5b1"
      },
      "execution_count": 39,
      "outputs": [
        {
          "output_type": "stream",
          "name": "stderr",
          "text": [
            "100%|██████████| 1000/1000 [00:01<00:00, 585.05it/s]\n"
          ]
        }
      ]
    },
    {
      "cell_type": "code",
      "source": [
        "for i in tqdm(range(10_000)):\n",
        "    tictac_dueldqn.run_episode(e=0.05) "
      ],
      "metadata": {
        "colab": {
          "base_uri": "https://localhost:8080/"
        },
        "id": "9n3WN7GX4C-n",
        "outputId": "e27b3b35-9b23-4dcf-d055-9ecea01b27a7"
      },
      "execution_count": 40,
      "outputs": [
        {
          "output_type": "stream",
          "name": "stderr",
          "text": [
            "100%|██████████| 10000/10000 [06:02<00:00, 27.62it/s]\n"
          ]
        }
      ]
    },
    {
      "cell_type": "code",
      "source": [
        "pd.Series(tictac_dueldqn.rewards).rolling(100).mean().plot()\n"
      ],
      "metadata": {
        "colab": {
          "base_uri": "https://localhost:8080/",
          "height": 283
        },
        "id": "c3Q7HBWR4D3w",
        "outputId": "88f71474-a287-4d17-f9e8-0630ed090b4c"
      },
      "execution_count": 41,
      "outputs": [
        {
          "output_type": "execute_result",
          "data": {
            "text/plain": [
              "<matplotlib.axes._subplots.AxesSubplot at 0x7f75b48c0350>"
            ]
          },
          "metadata": {},
          "execution_count": 41
        },
        {
          "output_type": "display_data",
          "data": {
            "text/plain": [
              "<Figure size 432x288 with 1 Axes>"
            ],
            "image/png": "[encoded data removed]"
          },
          "metadata": {
            "needs_background": "light"
          }
        }
      ]
    },
    {
      "cell_type": "code",
      "source": [
        "wins = []\n",
        "for i in tqdm(range(1000)):\n",
        "    tictac_dueldqn.run_episode(e=0, greedy=True, do_learning=False)\n",
        "    reward = tictac_dueldqn.rewards[-1]\n",
        "    wins.append(reward)"
      ],
      "metadata": {
        "colab": {
          "base_uri": "https://localhost:8080/"
        },
        "id": "6VolXilD4FjU",
        "outputId": "3a261bbf-5684-4572-8151-60d182b9ca44"
      },
      "execution_count": 42,
      "outputs": [
        {
          "output_type": "stream",
          "name": "stderr",
          "text": [
            "100%|██████████| 1000/1000 [00:05<00:00, 185.62it/s]\n"
          ]
        }
      ]
    },
    {
      "cell_type": "code",
      "source": [
        "np.mean(wins)"
      ],
      "metadata": {
        "colab": {
          "base_uri": "https://localhost:8080/"
        },
        "id": "aks-zar34Hp9",
        "outputId": "65e439d0-90d3-4ba2-ee20-6016c1c2d159"
      },
      "execution_count": 43,
      "outputs": [
        {
          "output_type": "execute_result",
          "data": {
            "text/plain": [
              "0.6565"
            ]
          },
          "metadata": {},
          "execution_count": 43
        }
      ]
    },
    {
      "cell_type": "markdown",
      "source": [
        "## Часть третья: расширим и углубим поиск"
      ],
      "metadata": {
        "id": "cqmFjPOY4pl8"
      }
    },
    {
      "cell_type": "code",
      "source": [
        "N_ROWS, N_COLS, N_WIN = 3, 3, 3\n",
        "\n",
        "class TicTacToe(gym.Env):\n",
        "    def __init__(self, n_rows=N_ROWS, n_cols=N_COLS, n_win=N_WIN):\n",
        "        self.n_rows = n_rows\n",
        "        self.n_cols = n_cols\n",
        "        self.n_win = n_win\n",
        "\n",
        "        self.board = np.zeros((self.n_rows, self.n_cols), dtype=int)\n",
        "        self.gameOver = False\n",
        "        self.boardHash = None\n",
        "        # ход первого игрока\n",
        "        self.curTurn = 1\n",
        "        self.emptySpaces = None\n",
        "        \n",
        "        self.reset()\n",
        "\n",
        "    def getEmptySpaces(self):\n",
        "        if self.emptySpaces is None:\n",
        "            res = np.where(self.board == 0)\n",
        "            self.emptySpaces = np.array([ (i, j) for i,j in zip(res[0], res[1]) ])\n",
        "        return self.emptySpaces\n",
        "\n",
        "    def makeMove(self, player, i, j):\n",
        "        self.board[i, j] = player\n",
        "        self.emptySpaces = None\n",
        "        self.boardHash = None\n",
        "\n",
        "    def getHash(self):\n",
        "        if self.boardHash is None:\n",
        "            self.boardHash = ''.join(['%s' % (x+1) for x in self.board.reshape(self.n_rows * self.n_cols)])\n",
        "        return self.boardHash\n",
        "\n",
        "    def isTerminal(self):\n",
        "        # проверим, не закончилась ли игра\n",
        "        cur_marks, cur_p = np.where(self.board == self.curTurn), self.curTurn\n",
        "        for i,j in zip(cur_marks[0], cur_marks[1]):\n",
        "          #print((i,j))\n",
        "            win = False\n",
        "            if i <= self.n_rows - self.n_win:\n",
        "                if np.all(self.board[i:i+self.n_win, j] == cur_p):\n",
        "                    win = True\n",
        "            if not win:\n",
        "                if j <= self.n_cols - self.n_win:\n",
        "                    if np.all(self.board[i,j:j+self.n_win] == cur_p):\n",
        "                        win = True\n",
        "            if not win:\n",
        "                if i <= self.n_rows - self.n_win and j <= self.n_cols - self.n_win:\n",
        "                    if np.all(np.array([ self.board[i+k,j+k] == cur_p for k in range(self.n_win) ])):\n",
        "                        win = True\n",
        "            if not win:\n",
        "                if i <= self.n_rows - self.n_win and j >= self.n_win-1:\n",
        "                    if np.all(np.array([ self.board[i+k,j-k] == cur_p for k in range(self.n_win) ])):\n",
        "                        win = True\n",
        "            if win:\n",
        "                self.gameOver = True\n",
        "                return self.curTurn\n",
        "\n",
        "        if len(self.getEmptySpaces()) == 0:\n",
        "            self.gameOver = True\n",
        "            return 0\n",
        "\n",
        "        self.gameOver = False\n",
        "        return None\n",
        "\n",
        "    def printBoard(self):\n",
        "        for i in range(0, self.n_rows):\n",
        "            print('----'*(self.n_cols)+'-')\n",
        "            out = '| '\n",
        "            for j in range(0, self.n_cols):\n",
        "                if self.board[i, j] == 1:\n",
        "                    token = 'x'\n",
        "                if self.board[i, j] == -1:\n",
        "                    token = 'o'\n",
        "                if self.board[i, j] == 0:\n",
        "                    token = ' '\n",
        "                out += token + ' | '\n",
        "            print(out)\n",
        "        print('----'*(self.n_cols)+'-')\n",
        "\n",
        "    def getState(self):\n",
        "        return (self.getHash(), self.getEmptySpaces(), self.curTurn)\n",
        "\n",
        "    def action_from_int(self, action_int):\n",
        "        return ( int(action_int / self.n_cols), int(action_int % self.n_cols))\n",
        "\n",
        "    def int_from_action(self, action):\n",
        "        return action[0] * self.n_cols + action[1]\n",
        "    \n",
        "    def step(self, action):\n",
        "        if self.board[action[0], action[1]] != 0:\n",
        "            return self.getState(), -10, True, {}\n",
        "        self.makeMove(self.curTurn, action[0], action[1])\n",
        "        reward = self.isTerminal()\n",
        "        self.curTurn = -self.curTurn\n",
        "        return self.getState(), 0 if reward is None else reward, reward is not None, {}\n",
        "\n",
        "    def reset(self):\n",
        "        self.board = np.zeros((self.n_rows, self.n_cols), dtype=int)\n",
        "        self.boardHash = None\n",
        "        self.gameOver = False\n",
        "        self.emptySpaces = None\n",
        "        self.curTurn = 1\n",
        "        return self.getState()"
      ],
      "metadata": {
        "id": "Zu2yXuob4nOt"
      },
      "execution_count": 44,
      "outputs": []
    },
    {
      "cell_type": "code",
      "source": [
        "def plot_board(env, pi, showtext=True, verbose=True, fontq=20, fontx=60):\n",
        "    clear_output(wait=True)\n",
        "    '''Рисуем доску с оценками из стратегии pi'''\n",
        "    fig, ax = plt.subplots(1, 1, figsize=(8, 8))\n",
        "    X, Y = np.meshgrid(np.arange(0, env.n_rows), np.arange(0, env.n_rows))\n",
        "    Z = np.zeros((env.n_rows, env.n_cols)) + .01\n",
        "    s, actions = env.getHash(), env.getEmptySpaces()\n",
        "    if pi is not None and s in pi.Q:\n",
        "        for i, a in enumerate(actions):\n",
        "            Z[a[0], a[1]] = pi.Q[s][i]\n",
        "    ax.set_xticks([])\n",
        "    ax.set_yticks([])\n",
        "    surf = ax.imshow(Z, cmap=plt.get_cmap('Accent', 10), vmin=-1, vmax=1)\n",
        "    if showtext:\n",
        "        for i,a in enumerate(actions):\n",
        "            if pi is not None and s in pi.Q:\n",
        "                ax.text( a[1] , a[0] , \"%.3f\" % pi.Q[s][i], fontsize=fontq, horizontalalignment='center', verticalalignment='center', color=\"w\" )\n",
        "#             else:\n",
        "#                 ax.text( a[1] , a[0] , \"???\", fontsize=fontq, horizontalalignment='center', verticalalignment='center', color=\"w\" )\n",
        "    for i in range(env.n_rows):\n",
        "        for j in range(env.n_cols):\n",
        "            if env.board[i, j] == -1:\n",
        "                ax.text(j, i, \"O\", fontsize=fontx, horizontalalignment='center', verticalalignment='center', color=\"w\" )\n",
        "            if env.board[i, j] == 1:\n",
        "                ax.text(j, i, \"X\", fontsize=fontx, horizontalalignment='center', verticalalignment='center', color=\"w\" )\n",
        "    cbar = plt.colorbar(surf, ticks=[0, 1])\n",
        "    ax.grid(False)\n",
        "    plt.show()\n",
        "\n",
        "def get_and_print_move(env, pi, s, actions, random=False, verbose=True, fontq=20, fontx=60):\n",
        "    '''Делаем ход, рисуем доску'''\n",
        "    plot_board(env, pi, fontq=fontq, fontx=fontx)\n",
        "    if verbose and (pi is not None):\n",
        "        if s in pi.Q:\n",
        "            for i,a in enumerate(actions):\n",
        "                print(i, a, pi.Q[s][i])\n",
        "        else:\n",
        "            print(\"Стратегия не знает, что делать...\")\n",
        "    if random:\n",
        "        return np.random.randint(len(actions))\n",
        "    else:\n",
        "        return pi.getActionGreedy(s, len(actions))\n",
        "\n",
        "def plot_test_game(env, pi1, pi2, random_crosses=False, random_naughts=True, verbose=True, fontq=20, fontx=60):\n",
        "    '''Играем тестовую партию между стратегиями или со случайными ходами, рисуем ход игры'''\n",
        "    done = False\n",
        "    env.reset()\n",
        "    while not done:\n",
        "        s, actions = env.getHash(), env.getEmptySpaces()\n",
        "        if env.curTurn == 1:\n",
        "            a = get_and_print_move(env, pi1, s, actions, random=random_crosses, verbose=verbose, fontq=fontq, fontx=fontx)\n",
        "        else:\n",
        "            a = get_and_print_move(env, pi2, s, actions, random=random_naughts, verbose=verbose, fontq=fontq, fontx=fontx)\n",
        "        observation, reward, done, info = env.step(actions[a])\n",
        "        if reward == 1:\n",
        "            print(\"Крестики выиграли!\")\n",
        "            plot_board(env, None, showtext=False, fontq=fontq, fontx=fontx)\n",
        "        if reward == -1:\n",
        "            print(\"Нолики выиграли!\")\n",
        "            plot_board(env, None, showtext=False, fontq=fontq, fontx=fontx)\n",
        "            "
      ],
      "metadata": {
        "id": "Vwa9UmAj4JlE"
      },
      "execution_count": 45,
      "outputs": []
    },
    {
      "cell_type": "code",
      "source": [
        "env = TicTacToe(n_rows=3, n_cols=3, n_win=3)\n",
        "plot_test_game(env, None, None, random_crosses=True, random_naughts=True, verbose=True, fontx=30)"
      ],
      "metadata": {
        "colab": {
          "base_uri": "https://localhost:8080/",
          "height": 470
        },
        "id": "oqQbVaN341HQ",
        "outputId": "6c321679-965f-4573-c326-bd0c1fea174c"
      },
      "execution_count": 46,
      "outputs": [
        {
          "output_type": "display_data",
          "data": {
            "text/plain": [
              "<Figure size 576x576 with 2 Axes>"
            ],
            "image/png": "[encoded data removed]"
          },
          "metadata": {
            "needs_background": "light"
          }
        }
      ]
    },
    {
      "cell_type": "code",
      "source": [],
      "metadata": {
        "id": "A9J7MNDG42XI"
      },
      "execution_count": null,
      "outputs": []
    },
    {
      "cell_type": "markdown",
      "source": [
        "\n",
        "### 5. Реализуйте rollouts со случайной стратегией и (опционально) rollouts с неслучайной, но простой стратегией (например, основанной на дополнении нескольких паттернов или на Q-функции, которая у вас получилась в первом пункте."
      ],
      "metadata": {
        "id": "U6KrNLH046Qb"
      }
    },
    {
      "cell_type": "code",
      "source": [
        "from copy import deepcopy\n",
        "\n",
        "def rollout(env, random_strategy=True, max_depth=None, play_as_crosses=True):\n",
        "    \n",
        "    env = deepcopy(env)\n",
        "    done = env.isTerminal() is not None\n",
        "    \n",
        "    while not done:\n",
        "        action = random.choice(env.emptySpaces)\n",
        "        _, reward, done, _ = env.step(action)\n",
        "        \n",
        "    # inverse\n",
        "    if play_as_crosses == False:\n",
        "        reward = -reward\n",
        "    return reward\n",
        "\n",
        "def random_policy(env):\n",
        "    return env.random_available_action()"
      ],
      "metadata": {
        "id": "Tb37srS848UR"
      },
      "execution_count": 47,
      "outputs": []
    },
    {
      "cell_type": "code",
      "source": [
        "env = TicTacToe(3, 3, 3)\n",
        "\n",
        "env.reset()\n",
        "print(rollout(env, random_policy, random_policy))\n",
        "\n",
        "env.reset()\n",
        "print(rollout(env, random_policy, random_policy))\n",
        "\n",
        "env.reset()\n",
        "print(rollout(env, random_policy, random_policy))"
      ],
      "metadata": {
        "colab": {
          "base_uri": "https://localhost:8080/"
        },
        "id": "Z2U_c1uO5Bg_",
        "outputId": "000bf2df-b8d0-49c4-ecdb-d9d0c7687978"
      },
      "execution_count": 48,
      "outputs": [
        {
          "output_type": "stream",
          "name": "stdout",
          "text": [
            "1\n",
            "1\n",
            "1\n"
          ]
        }
      ]
    },
    {
      "cell_type": "code",
      "source": [
        "env.reset()\n",
        "\n",
        "env.step([1,1])\n",
        "env.step([1,2]) \n",
        "env.step([2,1])\n",
        "env.step([0,1]) \n",
        "\n",
        "env.board"
      ],
      "metadata": {
        "colab": {
          "base_uri": "https://localhost:8080/"
        },
        "id": "ZXNir18x5DEp",
        "outputId": "a0add50f-3669-4e60-dfaa-d00948207897"
      },
      "execution_count": 49,
      "outputs": [
        {
          "output_type": "execute_result",
          "data": {
            "text/plain": [
              "array([[ 0, -1,  0],\n",
              "       [ 0,  1, -1],\n",
              "       [ 0,  1,  0]])"
            ]
          },
          "metadata": {},
          "execution_count": 49
        }
      ]
    },
    {
      "cell_type": "code",
      "source": [
        "np.mean([rollout(env) for _ in range(10_000)])\n"
      ],
      "metadata": {
        "colab": {
          "base_uri": "https://localhost:8080/"
        },
        "id": "uI_tB4JS5EaY",
        "outputId": "d7605c07-5e53-41d8-e76f-74d343f5e28a"
      },
      "execution_count": 50,
      "outputs": [
        {
          "output_type": "execute_result",
          "data": {
            "text/plain": [
              "0.4522"
            ]
          },
          "metadata": {},
          "execution_count": 50
        }
      ]
    },
    {
      "cell_type": "markdown",
      "source": [
        "### 6. Реализуйте MCTS-поиск с этими rollouts для крестиков-ноликов на досках разного размера, сравните полученные стратегии между собой и со стратегиями, обученными в первых двух частях.\n"
      ],
      "metadata": {
        "id": "G-5qIB9G5Gvr"
      }
    },
    {
      "cell_type": "code",
      "source": [
        "_ = env.reset()\n",
        "\n",
        "env.step([0,0])\n",
        "env.step([0,1])\n",
        "\n",
        "env.step([1,2])\n",
        "env.step([1,1])\n",
        "\n",
        "env.step([2,1])\n",
        "env.step([0,2])\n",
        "\n",
        "env.board"
      ],
      "metadata": {
        "colab": {
          "base_uri": "https://localhost:8080/"
        },
        "id": "VdI-erWm5FYp",
        "outputId": "5d55f285-e515-40d9-e23d-61d7a6003b9f"
      },
      "execution_count": 51,
      "outputs": [
        {
          "output_type": "execute_result",
          "data": {
            "text/plain": [
              "array([[ 1, -1, -1],\n",
              "       [ 0, -1,  1],\n",
              "       [ 0,  1,  0]])"
            ]
          },
          "metadata": {},
          "execution_count": 51
        }
      ]
    },
    {
      "cell_type": "code",
      "source": [
        "from copy import deepcopy\n",
        "from math import log, sqrt\n",
        "\n",
        "class MCTSNode:\n",
        "    def __init__(self, env=None):\n",
        "        self.env = deepcopy(env)\n",
        "        \n",
        "        self.parent = None\n",
        "        self.children = []\n",
        "        \n",
        "        self.terminal = False\n",
        "        self.visited = False\n",
        "        \n",
        "        self.N = 0\n",
        "        self.R = 0\n",
        "        \n",
        "    def search(self):\n",
        "        if self.terminal:\n",
        "            self.N += 1\n",
        "            return -self.reward\n",
        "        \n",
        "        if not self.visited:\n",
        "            self.visited = True\n",
        "            self.reward = rollout(self.env)\n",
        "            \n",
        "            \n",
        "            self.R = (self.R * self.N + self.reward) / (self.N + 1)\n",
        "            self.N += 1\n",
        "            \n",
        "            return self.reward\n",
        "        \n",
        "        if len(self.children) == 0:\n",
        "            for action in self.env.emptySpaces:\n",
        "                new_env = deepcopy(env)\n",
        "                s, r, d, _ = new_env.step(action)\n",
        "                new_node = MCTSNode(new_env)\n",
        "                new_node.parent = self \n",
        "                new_node.action = action\n",
        "                self.children.append(new_node)\n",
        "                if d:\n",
        "                    new_node.terminal = True\n",
        "                    new_node.reward = r\n",
        "                    \n",
        "            v = self.children[0].search()\n",
        "            self.R = (self.R * self.N + v) / (self.N + 1)\n",
        "            self.N += 1\n",
        "            return v"
      ],
      "metadata": {
        "id": "STVxcjI45MWA"
      },
      "execution_count": 52,
      "outputs": []
    },
    {
      "cell_type": "code",
      "source": [
        "env = TicTacToe(3, 3, 3)\n",
        "\n",
        "_ = env.reset()\n",
        "\n",
        "env.step([0,0])\n",
        "env.step([0,1])\n",
        "\n",
        "env.step([1,2])\n",
        "env.step([1,1])\n",
        "\n",
        "env.step([2,1])\n",
        "env.step([0,2])\n",
        "\n",
        "env.board"
      ],
      "metadata": {
        "colab": {
          "base_uri": "https://localhost:8080/"
        },
        "id": "N6d9kBP_5N6z",
        "outputId": "01c79c91-14cb-48b0-ac38-c69270832e4a"
      },
      "execution_count": 53,
      "outputs": [
        {
          "output_type": "execute_result",
          "data": {
            "text/plain": [
              "array([[ 1, -1, -1],\n",
              "       [ 0, -1,  1],\n",
              "       [ 0,  1,  0]])"
            ]
          },
          "metadata": {},
          "execution_count": 53
        }
      ]
    },
    {
      "cell_type": "code",
      "source": [
        "mcts = MCTSNode(env)\n"
      ],
      "metadata": {
        "id": "TfPGwnuu5PF5"
      },
      "execution_count": 54,
      "outputs": []
    },
    {
      "cell_type": "code",
      "source": [
        "mcts = MCTSNode(env)\n",
        "for _ in range(200):\n",
        "    mcts.search()"
      ],
      "metadata": {
        "id": "Wz2VklHx5P5E"
      },
      "execution_count": 55,
      "outputs": []
    },
    {
      "cell_type": "code",
      "source": [
        "max(mcts.children, key=lambda x: x.N).action\n"
      ],
      "metadata": {
        "colab": {
          "base_uri": "https://localhost:8080/"
        },
        "id": "UOYXMdQZ5Q-S",
        "outputId": "e882dc96-11c4-4708-ad75-48b44de384b4"
      },
      "execution_count": 56,
      "outputs": [
        {
          "output_type": "execute_result",
          "data": {
            "text/plain": [
              "array([1, 0])"
            ]
          },
          "metadata": {},
          "execution_count": 56
        }
      ]
    },
    {
      "cell_type": "code",
      "source": [
        "min(mcts.children, key=lambda x: x.N).action\n"
      ],
      "metadata": {
        "colab": {
          "base_uri": "https://localhost:8080/"
        },
        "id": "wzBTzltI5R6y",
        "outputId": "630ea089-3fc6-477b-8ce4-86c1b9603b0f"
      },
      "execution_count": 57,
      "outputs": [
        {
          "output_type": "execute_result",
          "data": {
            "text/plain": [
              "array([2, 0])"
            ]
          },
          "metadata": {},
          "execution_count": 57
        }
      ]
    },
    {
      "cell_type": "code",
      "source": [
        "env.board\n"
      ],
      "metadata": {
        "colab": {
          "base_uri": "https://localhost:8080/"
        },
        "id": "RATjEAYq5S9w",
        "outputId": "6cd1363b-217d-46db-fba9-cb5ababf213e"
      },
      "execution_count": 58,
      "outputs": [
        {
          "output_type": "execute_result",
          "data": {
            "text/plain": [
              "array([[ 1, -1, -1],\n",
              "       [ 0, -1,  1],\n",
              "       [ 0,  1,  0]])"
            ]
          },
          "metadata": {},
          "execution_count": 58
        }
      ]
    },
    {
      "cell_type": "code",
      "source": [
        "def find_ind(ar, value):\n",
        "    for i, el in enumerate(ar):\n",
        "        if sum(el == value) == 2: return i\n",
        "    return -1"
      ],
      "metadata": {
        "id": "bZOYJRrp5UdT"
      },
      "execution_count": 63,
      "outputs": []
    },
    {
      "cell_type": "code",
      "source": [
        "def get_and_print_move(env, pi, s, actions, random=False, verbose=True, fontq=20, fontx=60):\n",
        "    '''Делаем ход, рисуем доску'''\n",
        "    #plot_board(env, pi, fontq=fontq, fontx=fontx)\n",
        "    mcts = MCTSNode(env)\n",
        "    for _ in range(100):\n",
        "        mcts.search()\n",
        "    if verbose and (pi is not None):\n",
        "        if s in pi.Q:\n",
        "            for i,a in enumerate(actions):\n",
        "                print(i, a, pi.Q[s][i])\n",
        "        else:\n",
        "            print(\"Стратегия не знает, что делать...\")\n",
        "    if random:\n",
        "        return np.random.randint(len(actions))\n",
        "    else:\n",
        "        val = max(mcts.children, key=lambda x: x.N).action\n",
        "        print(val)\n",
        "        return find_ind(actions, val)\n",
        "\n",
        "def plot_test_game(env, pi1, pi2, random_crosses=False, random_naughts=True, verbose=True, fontq=20, fontx=60):\n",
        "    '''Играем тестовую партию между стратегиями или со случайными ходами, рисуем ход игры'''\n",
        "    done = False\n",
        "    env.reset()\n",
        "    while not done:\n",
        "        s, actions = env.getHash(), env.getEmptySpaces()\n",
        "        if env.curTurn == 1:\n",
        "            a = get_and_print_move(env, pi1, s, actions, random=random_crosses, verbose=verbose, fontq=fontq, fontx=fontx)\n",
        "        else:\n",
        "            a = get_and_print_move(env, pi2, s, actions, random=random_naughts, verbose=verbose, fontq=fontq, fontx=fontx)\n",
        "        observation, reward, done, info = env.step(actions[a])\n",
        "        if reward == 1:\n",
        "            print(\"Крестики выиграли!\")\n",
        "            plot_board(env, None, showtext=False, fontq=fontq, fontx=fontx)\n",
        "        if reward == -1:\n",
        "            print(\"Нолики выиграли!\")\n",
        "            plot_board(env, None, showtext=False, fontq=fontq, fontx=fontx)\n",
        "    print(reward)\n",
        "    return reward"
      ],
      "metadata": {
        "id": "tXE7cgQk5ZgS"
      },
      "execution_count": 64,
      "outputs": []
    },
    {
      "cell_type": "code",
      "source": [
        "val = min(mcts.children, key=lambda x: x.N).action\n",
        "val"
      ],
      "metadata": {
        "colab": {
          "base_uri": "https://localhost:8080/"
        },
        "id": "4CrQFajB5apl",
        "outputId": "f09efb04-de13-455b-ff67-fe774f483233"
      },
      "execution_count": 65,
      "outputs": [
        {
          "output_type": "execute_result",
          "data": {
            "text/plain": [
              "array([2, 0])"
            ]
          },
          "metadata": {},
          "execution_count": 65
        }
      ]
    },
    {
      "cell_type": "code",
      "source": [
        "\n",
        "\n",
        "rew = []\n",
        "\n",
        "for _ in tqdm(range(1000)):\n",
        "    env = TicTacToe(n_rows=3, n_cols=3, n_win=3)\n",
        "    rew.append(plot_test_game(env, None, None, random_crosses=False, fontx=30))"
      ],
      "metadata": {
        "colab": {
          "base_uri": "https://localhost:8080/",
          "height": 506
        },
        "id": "PnIa2f1f5bqN",
        "outputId": "af2ae26d-f4a1-43d6-c56d-fca3c2a0f02c"
      },
      "execution_count": 66,
      "outputs": [
        {
          "output_type": "display_data",
          "data": {
            "text/plain": [
              "<Figure size 576x576 with 2 Axes>"
            ],
            "image/png": "[encoded data removed]"
          },
          "metadata": {
            "needs_background": "light"
          }
        },
        {
          "output_type": "stream",
          "name": "stderr",
          "text": [
            "100%|██████████| 1000/1000 [02:21<00:00,  7.06it/s]"
          ]
        },
        {
          "output_type": "stream",
          "name": "stdout",
          "text": [
            "1\n"
          ]
        },
        {
          "output_type": "stream",
          "name": "stderr",
          "text": [
            "\n"
          ]
        }
      ]
    },
    {
      "cell_type": "code",
      "source": [
        "np.mean(rew)\n"
      ],
      "metadata": {
        "colab": {
          "base_uri": "https://localhost:8080/"
        },
        "id": "PYjArf795clj",
        "outputId": "3b2745b6-cc02-4749-c2bf-d5d97b55b8fb"
      },
      "execution_count": 67,
      "outputs": [
        {
          "output_type": "execute_result",
          "data": {
            "text/plain": [
              "0.63"
            ]
          },
          "metadata": {},
          "execution_count": 67
        }
      ]
    },
    {
      "cell_type": "code",
      "source": [],
      "metadata": {
        "id": "LkuvhjXJ6UVe"
      },
      "execution_count": null,
      "outputs": []
    }
  ],
  "metadata": {
    "kernelspec": {
      "display_name": "Python 3 (ipykernel)",
      "language": "python",
      "name": "python3"
    },
    "language_info": {
      "codemirror_mode": {
        "name": "ipython",
        "version": 3
      },
      "file_extension": ".py",
      "mimetype": "text/x-python",
      "name": "python",
      "nbconvert_exporter": "python",
      "pygments_lexer": "ipython3",
      "version": "3.9.12"
    },
    "colab": {
      "provenance": []
    },
    "accelerator": "GPU",
    "gpuClass": "standard"
  },
  "nbformat": 4,
  "nbformat_minor": 0
}